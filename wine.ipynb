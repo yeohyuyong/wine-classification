{
 "cells": [
  {
   "cell_type": "code",
   "execution_count": 14,
   "metadata": {
    "colab": {},
    "colab_type": "code",
    "id": "aeD1IzbXKBzh"
   },
   "outputs": [],
   "source": [
    "import numpy as np\n",
    "import pandas as pd"
   ]
  },
  {
   "cell_type": "code",
   "execution_count": 15,
   "metadata": {
    "colab": {},
    "colab_type": "code",
    "id": "HwqDueshKBFl"
   },
   "outputs": [],
   "source": [
    "from sklearn.datasets import load_wine"
   ]
  },
  {
   "cell_type": "code",
   "execution_count": 16,
   "metadata": {
    "colab": {
     "base_uri": "https://localhost:8080/",
     "height": 35
    },
    "colab_type": "code",
    "executionInfo": {
     "elapsed": 848,
     "status": "ok",
     "timestamp": 1587563665942,
     "user": {
      "displayName": "19Y6C33 YEOH YU YONG",
      "photoUrl": "https://lh3.googleusercontent.com/a-/AOh14GhbZbC-HrnvMCwslln8fL2BkwyhsosAOtsgG5mMAQ=s64",
      "userId": "17459656630708650177"
     },
     "user_tz": -480
    },
    "id": "E88cr9jOKBTD",
    "outputId": "53a25c49-ee5e-4d57-81c6-cb26aec1179e"
   },
   "outputs": [
    {
     "data": {
      "text/plain": [
       "dict_keys(['data', 'target', 'target_names', 'DESCR', 'feature_names'])"
      ]
     },
     "execution_count": 16,
     "metadata": {},
     "output_type": "execute_result"
    }
   ],
   "source": [
    "wine = load_wine()\n",
    "wine.keys()"
   ]
  },
  {
   "cell_type": "code",
   "execution_count": 17,
   "metadata": {
    "colab": {},
    "colab_type": "code",
    "id": "kVdFRa_5J1YE"
   },
   "outputs": [],
   "source": [
    "X = pd.DataFrame(data=wine['data'],columns=wine['feature_names'])"
   ]
  },
  {
   "cell_type": "code",
   "execution_count": 18,
   "metadata": {
    "colab": {},
    "colab_type": "code",
    "id": "eYb7yPy7J748"
   },
   "outputs": [],
   "source": [
    "y = pd.Series(data=wine['target'])"
   ]
  },
  {
   "cell_type": "code",
   "execution_count": 19,
   "metadata": {
    "colab": {},
    "colab_type": "code",
    "id": "7YT64HJEKSxu"
   },
   "outputs": [],
   "source": [
    "# split data\n",
    "from sklearn.model_selection import train_test_split"
   ]
  },
  {
   "cell_type": "code",
   "execution_count": 20,
   "metadata": {
    "colab": {},
    "colab_type": "code",
    "id": "rJYts6QFLJUg"
   },
   "outputs": [],
   "source": [
    "X_train,X_test,y_train,y_test = train_test_split(X,y,test_size=0.3)"
   ]
  },
  {
   "cell_type": "code",
   "execution_count": 21,
   "metadata": {
    "colab": {},
    "colab_type": "code",
    "id": "K7Ax71OAMvVb"
   },
   "outputs": [],
   "source": [
    "from sklearn.ensemble import RandomForestClassifier"
   ]
  },
  {
   "cell_type": "code",
   "execution_count": 22,
   "metadata": {
    "colab": {
     "base_uri": "https://localhost:8080/",
     "height": 69
    },
    "colab_type": "code",
    "executionInfo": {
     "elapsed": 516,
     "status": "ok",
     "timestamp": 1587564195004,
     "user": {
      "displayName": "19Y6C33 YEOH YU YONG",
      "photoUrl": "https://lh3.googleusercontent.com/a-/AOh14GhbZbC-HrnvMCwslln8fL2BkwyhsosAOtsgG5mMAQ=s64",
      "userId": "17459656630708650177"
     },
     "user_tz": -480
    },
    "id": "5o_SB_qIMJFP",
    "outputId": "fb61641b-9065-4a1e-c545-df4f796fa464"
   },
   "outputs": [
    {
     "data": {
      "text/plain": [
       "RandomForestClassifier(bootstrap=True, class_weight=None, criterion='gini',\n",
       "                       max_depth=None, max_features='auto', max_leaf_nodes=None,\n",
       "                       min_impurity_decrease=0.0, min_impurity_split=None,\n",
       "                       min_samples_leaf=1, min_samples_split=2,\n",
       "                       min_weight_fraction_leaf=0.0, n_estimators=200,\n",
       "                       n_jobs=None, oob_score=False, random_state=None,\n",
       "                       verbose=0, warm_start=False)"
      ]
     },
     "execution_count": 22,
     "metadata": {},
     "output_type": "execute_result"
    }
   ],
   "source": [
    "rfc = RandomForestClassifier(n_estimators=200)\n",
    "rfc.fit(X_train,y_train)"
   ]
  },
  {
   "cell_type": "code",
   "execution_count": 23,
   "metadata": {
    "colab": {},
    "colab_type": "code",
    "id": "iKx3ntnAMXCO"
   },
   "outputs": [],
   "source": [
    "prediction = rfc.predict(X_test)"
   ]
  },
  {
   "cell_type": "code",
   "execution_count": 24,
   "metadata": {
    "colab": {
     "base_uri": "https://localhost:8080/",
     "height": 69
    },
    "colab_type": "code",
    "executionInfo": {
     "elapsed": 584,
     "status": "ok",
     "timestamp": 1587564197137,
     "user": {
      "displayName": "19Y6C33 YEOH YU YONG",
      "photoUrl": "https://lh3.googleusercontent.com/a-/AOh14GhbZbC-HrnvMCwslln8fL2BkwyhsosAOtsgG5mMAQ=s64",
      "userId": "17459656630708650177"
     },
     "user_tz": -480
    },
    "id": "9zu7ShI0MbYc",
    "outputId": "de581133-7abd-41d8-8919-dd5cbde7be32"
   },
   "outputs": [
    {
     "data": {
      "text/plain": [
       "array([1, 1, 2, 1, 1, 0, 0, 2, 1, 1, 1, 1, 1, 2, 2, 2, 0, 1, 2, 0, 0, 0,\n",
       "       1, 1, 0, 0, 0, 0, 0, 1, 0, 0, 0, 1, 0, 2, 1, 0, 2, 0, 1, 2, 1, 1,\n",
       "       1, 2, 1, 1, 0, 2, 1, 2, 0, 0])"
      ]
     },
     "execution_count": 24,
     "metadata": {},
     "output_type": "execute_result"
    }
   ],
   "source": [
    "prediction"
   ]
  },
  {
   "cell_type": "code",
   "execution_count": 25,
   "metadata": {
    "colab": {
     "base_uri": "https://localhost:8080/",
     "height": 69
    },
    "colab_type": "code",
    "executionInfo": {
     "elapsed": 509,
     "status": "ok",
     "timestamp": 1587564198487,
     "user": {
      "displayName": "19Y6C33 YEOH YU YONG",
      "photoUrl": "https://lh3.googleusercontent.com/a-/AOh14GhbZbC-HrnvMCwslln8fL2BkwyhsosAOtsgG5mMAQ=s64",
      "userId": "17459656630708650177"
     },
     "user_tz": -480
    },
    "id": "g9EBfLB2McUx",
    "outputId": "dff468ea-8686-421a-e18f-b266d19f1c93"
   },
   "outputs": [
    {
     "name": "stdout",
     "output_type": "stream",
     "text": [
      "[[19  0  0]\n",
      " [ 1 22  1]\n",
      " [ 0  0 11]]\n"
     ]
    }
   ],
   "source": [
    "from sklearn.metrics import classification_report,confusion_matrix\n",
    "print(confusion_matrix(y_test,prediction))"
   ]
  },
  {
   "cell_type": "code",
   "execution_count": 26,
   "metadata": {
    "colab": {
     "base_uri": "https://localhost:8080/",
     "height": 245
    },
    "colab_type": "code",
    "executionInfo": {
     "elapsed": 814,
     "status": "ok",
     "timestamp": 1587564200249,
     "user": {
      "displayName": "19Y6C33 YEOH YU YONG",
      "photoUrl": "https://lh3.googleusercontent.com/a-/AOh14GhbZbC-HrnvMCwslln8fL2BkwyhsosAOtsgG5mMAQ=s64",
      "userId": "17459656630708650177"
     },
     "user_tz": -480
    },
    "id": "hCLHd3sqMkhb",
    "outputId": "23ae8355-1a6e-4dca-9367-4cfa6fc8a0cb"
   },
   "outputs": [
    {
     "name": "stdout",
     "output_type": "stream",
     "text": [
      "              precision    recall  f1-score   support\n",
      "\n",
      "           0       0.95      1.00      0.97        19\n",
      "           1       1.00      0.92      0.96        24\n",
      "           2       0.92      1.00      0.96        11\n",
      "\n",
      "    accuracy                           0.96        54\n",
      "   macro avg       0.96      0.97      0.96        54\n",
      "weighted avg       0.97      0.96      0.96        54\n",
      "\n"
     ]
    }
   ],
   "source": [
    "print(classification_report(y_test,prediction))"
   ]
  },
  {
   "cell_type": "code",
   "execution_count": 0,
   "metadata": {
    "colab": {},
    "colab_type": "code",
    "id": "vNfEW8N4MqLk"
   },
   "outputs": [],
   "source": []
  }
 ],
 "metadata": {
  "colab": {
   "authorship_tag": "ABX9TyMZ8L4RcVU3bY6JtOJg0/0R",
   "name": "wine.ipynb",
   "provenance": []
  },
  "kernelspec": {
   "display_name": "Python 3",
   "language": "python",
   "name": "python3"
  },
  "language_info": {
   "codemirror_mode": {
    "name": "ipython",
    "version": 3
   },
   "file_extension": ".py",
   "mimetype": "text/x-python",
   "name": "python",
   "nbconvert_exporter": "python",
   "pygments_lexer": "ipython3",
   "version": "3.7.7"
  }
 },
 "nbformat": 4,
 "nbformat_minor": 1
}
